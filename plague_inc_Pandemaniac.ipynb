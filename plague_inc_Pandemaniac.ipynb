{
  "cells": [
    {
      "cell_type": "markdown",
      "metadata": {
        "id": "2e0EmgovDcna"
      },
      "source": [
        "\n",
        "#**Pandemonium Project**\n",
        "\n",
        "### JSON Parsing methods:"
      ]
    },
    {
      "cell_type": "code",
      "execution_count": 4,
      "metadata": {
        "id": "9-I1X71Icuyj"
      },
      "outputs": [],
      "source": [
        "import sim\n",
        "import json\n",
        "import random\n",
        "import networkx as nx\n",
        "import numpy as np\n",
        "import pandas as pd\n",
        "import os\n",
        "import shutil\n",
        "import time\n",
        "from dataclasses import dataclass\n",
        "from google.colab import files\n",
        "\n",
        "\n",
        "# Returns the round_type ('RR' or 'J' ), the num_seeds, and unique_id\n",
        "def parse_round_specs(file):\n",
        "  file_info = file.split('.')\n",
        "  round_type = file_info[0].split('/')[-1]\n",
        "  num_seeds = file_info[1]\n",
        "  graph_id = file_info[2]\n",
        "  return round_type, num_seeds, graph_id\n",
        "\n",
        "# Returns the adjacency lists and round specifications\n",
        "def parse_JSON_file(filename):\n",
        "  adjacency_dict = {}\n",
        "  with open(filename, 'r') as f:\n",
        "    round_type, num_seeds, graph_id = parse_round_specs(filename)\n",
        "    adjacency_dict = json.loads(f.read())\n",
        "  return adjacency_dict, num_seeds, round_type, graph_id\n",
        "\n",
        "# Returns the dictionary representation of the graph adjacencies\n",
        "def parse_JSON_file_dict(filename):\n",
        "  adjacency_dict = {}\n",
        "  with open(filename, 'r') as f:\n",
        "    _, num_seeds, _ = parse_round_specs(filename)\n",
        "    adjacency_dict = json.loads(f.read())\n",
        "  return adjacency_dict, int(num_seeds)\n",
        "\n",
        "# Returns the filenames in the graphs folder\n",
        "def parse_filenames(path):\n",
        "  if not os.path.exists(path):\n",
        "    os.mkdir(path)\n",
        "  filenames = []\n",
        "  for f in os.listdir(path):\n",
        "    if not f.startswith('.'):\n",
        "      filenames.append(path + f)\n",
        "  return filenames\n",
        "\n",
        "# Convert the output seeds into a file in the format for sim.py\n",
        "def convert_to_dict_file(seeds, round_type, num_seeds, graph_id):\n",
        "  plague_file = {}\n",
        "  plague_file[\"plague_inc\"] = []\n",
        "  for i in range(50):\n",
        "    plague_file[\"plague_inc\"].append(seeds)\n",
        "  write_filename = f'/content/test/{round_type}.{num_seeds}.{graph_id}-plague_inc.json'\n",
        "  f = open(write_filename, \"a\")\n",
        "  f.write(json.dumps(plague_file))\n",
        "  f.close()\n",
        "  return plague_file\n"
      ]
    },
    {
      "cell_type": "markdown",
      "metadata": {
        "id": "-M1kXFVLDu-Q"
      },
      "source": [
        "### Strategy comparison functions:\n",
        "---"
      ]
    },
    {
      "cell_type": "code",
      "source": [
        "# Compares two Round-Robin strategies and determines the winner\n",
        "def compare_strategies(filename, seed_file, opponent_seed_file):\n",
        "  adj_list, num_seeds = parse_JSON_file_dict(filename)\n",
        "  node_mappings = {}\n",
        "\n",
        "  with open(seed_file, 'r') as f:\n",
        "    seed = json.loads(f.read())\n",
        "    node_mappings['plague_inc'] = seed['plague_inc'][0]\n",
        "\n",
        "  with open(opponent_seed_file, 'r') as f:\n",
        "    seed = json.loads(f.read())\n",
        "    key = list(seed.keys())[0]\n",
        "    node_mappings[key] = seed[key][0]\n",
        "  return sim.run(adj_list, node_mappings)\n",
        "\n",
        "# Compares Jungle strategies amonst all participants and determines the winner\n",
        "def compare_strategies_J(filename, seed_file, opponent_seed_folder):\n",
        "  opponent_seed_files = parse_filenames(opponent_seed_folder)\n",
        "  adj_list, num_seeds = parse_JSON_file_dict(filename)\n",
        "  node_mappings = {}\n",
        "\n",
        "  with open(seed_file, 'r') as f:\n",
        "    seed = f.read().rstrip()\n",
        "    node_mappings['plague_inc'] = seed.split('\\n')[:num_seeds]\n",
        "\n",
        "  for i, opponent_seed_file in enumerate(opponent_seed_files):\n",
        "    with open(opponent_seed_file, 'r') as f:\n",
        "      seed = json.loads(f.read())\n",
        "      opponent_name = opponent_seed_file.split('-')[1].split('.')[0]\n",
        "      node_mappings[opponent_name] = seed[next(iter(seed))][0]\n",
        "  return sim.run(adj_list, node_mappings)\n",
        "\n",
        "# Compares two nodes' performance during a sim.py run\n",
        "def compare_nodes(filename, node, opponent):\n",
        "  adj_list, num_seeds = parse_JSON_file_dict(filename)\n",
        "  node_mappings = {}\n",
        "  node_mappings['plague_inc'] = [node]\n",
        "  node_mappings['opponent'] = [opponent]\n",
        "  result = sim.run(adj_list, node_mappings)\n",
        "\n",
        "  return result['plague_inc'] >= result['opponent']"
      ],
      "metadata": {
        "id": "-phK2RrFnRzB"
      },
      "execution_count": 5,
      "outputs": []
    },
    {
      "cell_type": "markdown",
      "source": [
        "### Algorithm for finding the seed nodes:\n",
        "\n",
        "##### For Round Robin: Sort the highest degree nodes and run sim.py to find the num_seeds highest performing nodes.\n",
        "\n",
        "##### For Jungle: Pick num_seeds random nodes from the 3rd set of highest degree nodes to the 7th set of highest degree nodes. (Each set being num_seeds length).\n",
        "---"
      ],
      "metadata": {
        "id": "-P05ANpLt4kJ"
      }
    },
    {
      "cell_type": "code",
      "source": [
        "# Retrieves the sorted highest degree nodes in the graph\n",
        "filename = parse_filenames('/content/graphs/')[0]\n",
        "adjacency_list, num_seeds, round_type, graph_id = parse_JSON_file(filename)\n",
        "G = nx.Graph(adjacency_list)\n",
        "sorted_degree = sorted(dict(G.degree).items(), key=lambda x: x[1], reverse=True)\n",
        "seeds = np.array(sorted_degree)[:int(num_seeds), 0]\n",
        "print(f\"Top {int(num_seeds)} nodes: \" + str(seeds))\n",
        "\n",
        "if round_type == 'RR':\n",
        "  # Round-Robin Strategy\n",
        "  start_time = time_sec = time.time()\n",
        "  index = 5 # Starting index for num_seeds = 10 -> 5, num_seeds = 15 -> 3, otherwise set to 2\n",
        "  while time.time() - start_time < 240 and index <= 8:\n",
        "    print(\"Time elapsed: \" + str(time.time()- start_time))\n",
        "    highest_deg_nodes = np.array(sorted_degree)[:int(num_seeds)*index, 0]\n",
        "    print(f\"Choosing the best seeds from the top {int(num_seeds) * index} nodes: \" + str(highest_deg_nodes))\n",
        "    # Compares each node in highest_deg_nodes with eachother using sim.py to find the best num_seed nodes\n",
        "    node_competition = {node: 0 for node in highest_deg_nodes}\n",
        "    for i in range(len(highest_deg_nodes)-1):\n",
        "      for j in range(i+1, len(highest_deg_nodes)):\n",
        "        if time.time() - start_time > 240:\n",
        "          print(\"Time elapsed: \" + str(time.time()- start_time))\n",
        "          break\n",
        "        result = compare_nodes(filename, highest_deg_nodes[i], highest_deg_nodes[j])\n",
        "        node_competition[highest_deg_nodes[i]] += result\n",
        "        node_competition[highest_deg_nodes[j]] += not result\n",
        "\n",
        "    if time.time() - start_time <= 240:\n",
        "      sorted_nodes = sorted(node_competition.items(), key=lambda x: x[1], reverse=True)\n",
        "      seeds = np.array(sorted_nodes)[:int(num_seeds), 0]\n",
        "      print(f\"{index}: \" + str(seeds))\n",
        "      index += 1\n",
        "else:\n",
        "  # Jungle Strategy\n",
        "  highest_deg_nodes = np.array(sorted_degree)[int(num_seeds)*2:int(num_seeds)*6, 0]\n",
        "  seeds = random.sample(sorted(highest_deg_nodes), int(num_seeds))\n",
        "  print(seeds)"
      ],
      "metadata": {
        "id": "mkNMhCx2LeI_"
      },
      "execution_count": null,
      "outputs": []
    },
    {
      "cell_type": "markdown",
      "source": [
        "### Seed file generation and download functions:\n",
        "---\n",
        "\n"
      ],
      "metadata": {
        "id": "j425sep4tq4W"
      }
    },
    {
      "cell_type": "code",
      "source": [
        "# Generate the txt files for submitting seeds to the Pandemaniac website\n",
        "def generate_txt_files(output_path, round_type, num_seeds, graph_id, seeds):\n",
        "  rounds = 50\n",
        "  if os.path.exists(output_path):\n",
        "    shutil.rmtree(output_path)\n",
        "  os.mkdir(output_path)\n",
        "  file_id = 'plague_inc'\n",
        "  write_filename = f'{output_path}{round_type}.{num_seeds}.{graph_id}-{file_id}.txt'\n",
        "  f = open(write_filename, \"a\")\n",
        "  for round in range(rounds):\n",
        "    for seed in seeds:\n",
        "      f.writelines(str(seed) + \"\\n\")\n",
        "  f.close()\n",
        "  print(f'Generated file: {write_filename}')\n",
        "\n",
        "# Download the txt files in the output directory\n",
        "def download_files(output_dir):\n",
        "  for filename in os.listdir(output_dir):\n",
        "    files.download(output_dir + filename)\n",
        "\n",
        "generate_txt_files('/content/output/', round_type, num_seeds, graph_id, seeds)\n",
        "download_files('/content/output/')\n",
        "# convert_to_dict_file(np.array(seeds).tolist(), round_type, num_seeds, graph_id)"
      ],
      "metadata": {
        "id": "NmaE1K6TvvrJ"
      },
      "execution_count": null,
      "outputs": []
    },
    {
      "cell_type": "markdown",
      "source": [
        "### Strategy testing against opponent teams using sim.py:\n",
        "\n",
        "---\n",
        "\n"
      ],
      "metadata": {
        "id": "rJkAG3Rrtd5f"
      }
    },
    {
      "cell_type": "code",
      "source": [
        "# filename = parse_filenames('/content/graphs/')[0]\n",
        "# seed_file = parse_filenames('/content/test/')[0]\n",
        "# round_type, _, _ = parse_round_specs(filename)\n",
        "# if round_type == 'RR':\n",
        "#   for fname in parse_filenames('/content/strats/'):\n",
        "#     opponent_seed_file = f'{fname}'\n",
        "#     result = compare_strategies(filename, seed_file, opponent_seed_file)\n",
        "#     print(result)\n",
        "# elif round_type == 'J':\n",
        "#   opponent_seed_folder = '/content/opponent_strategies/' # Add all opponent strategies to this folder\n",
        "#   results = sorted(compare_strategies_J(filename, seed_file, opponent_seed_folder).items(), key=lambda x: x[1], reverse=True)\n",
        "#   for team in results:\n",
        "#     print(f'{team[0]}: {team[1]}')"
      ],
      "metadata": {
        "id": "LSzRRvzxenjv"
      },
      "execution_count": null,
      "outputs": []
    }
  ],
  "metadata": {
    "colab": {
      "provenance": []
    },
    "kernelspec": {
      "display_name": "Python 3",
      "name": "python3"
    },
    "language_info": {
      "name": "python"
    }
  },
  "nbformat": 4,
  "nbformat_minor": 0
}